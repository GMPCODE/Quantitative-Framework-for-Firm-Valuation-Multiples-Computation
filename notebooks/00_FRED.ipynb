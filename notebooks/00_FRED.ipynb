{
 "cells": [
  {
   "cell_type": "code",
   "execution_count": 2,
   "metadata": {},
   "outputs": [],
   "source": [
    "import warnings\n",
    "\n",
    "warnings.filterwarnings(\"ignore\")"
   ]
  },
  {
   "cell_type": "code",
   "execution_count": 3,
   "metadata": {},
   "outputs": [],
   "source": [
    "from pathlib import Path\n",
    "\n",
    "raw_data_folder: Path = Path(\"00_raw/\")\n",
    "prod_data_folder: Path = Path(\"30_prod/\")"
   ]
  },
  {
   "cell_type": "code",
   "execution_count": 6,
   "metadata": {},
   "outputs": [],
   "source": [
    "import pandas as pd\n",
    "import numpy as np\n",
    "\n",
    "daily_inflation_rate: pd.DataFrame = pd.read_csv(\n",
    "    filepath_or_buffer=raw_data_folder.joinpath(\"T5YIE.csv\"),\n",
    "    sep=\",\",\n",
    "    encoding=\"UTF-8\",\n",
    ")\n",
    "\n",
    "daily_inflation_rate.rename(columns={\"DATE\": \"Date\", \"T5YIE\": \"Rate\"}, inplace=True)\n",
    "daily_inflation_rate[\"Date\"] = pd.to_datetime(daily_inflation_rate[\"Date\"], format=\"%Y-%m-%d\")\n",
    "\n",
    "for i in range(daily_inflation_rate.shape[0]):\n",
    "    if daily_inflation_rate.at[i, \"Rate\"] == \".\":\n",
    "        if i > 0 and i < daily_inflation_rate.shape[0] - 1:\n",
    "            daily_inflation_rate.at[i, \"Rate\"] = round((float(daily_inflation_rate.at[i+1, \"Rate\"]) + float(daily_inflation_rate.at[i-1, \"Rate\"])) / 2, 2)\n",
    "        elif i > 0:\n",
    "            daily_inflation_rate.at[i, \"Rate\"] = float(daily_inflation_rate.at[i-1, \"Rate\"])\n",
    "        elif i == 0:\n",
    "            daily_inflation_rate.at[i, \"Rate\"] = float(daily_inflation_rate.at[i+1, \"Rate\"])\n",
    "\n",
    "daily_inflation_rate[\"Rate\"] = daily_inflation_rate[\"Rate\"].astype(np.float64)"
   ]
  },
  {
   "cell_type": "code",
   "execution_count": 7,
   "metadata": {},
   "outputs": [],
   "source": [
    "daily_inflation_rate.to_csv(\n",
    "    path_or_buf=prod_data_folder.joinpath(\"inflation_rates.csv\"),\n",
    "    sep=\",\",\n",
    "    encoding=\"UTF-8\",\n",
    "    index=False,\n",
    ")"
   ]
  }
 ],
 "metadata": {
  "kernelspec": {
   "display_name": "Thesis",
   "language": "python",
   "name": "python3"
  },
  "language_info": {
   "codemirror_mode": {
    "name": "ipython",
    "version": 3
   },
   "file_extension": ".py",
   "mimetype": "text/x-python",
   "name": "python",
   "nbconvert_exporter": "python",
   "pygments_lexer": "ipython3",
   "version": "3.11.9"
  }
 },
 "nbformat": 4,
 "nbformat_minor": 2
}
