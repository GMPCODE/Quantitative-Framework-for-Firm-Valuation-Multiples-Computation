{
 "cells": [
  {
   "cell_type": "code",
   "execution_count": 2,
   "metadata": {},
   "outputs": [],
   "source": [
    "from pathlib import Path\n",
    "\n",
    "data_folder: Path = Path(\"../data/\")\n",
    "\n",
    "raw_data_folder: Path = data_folder.joinpath(\"00_raw/\")\n",
    "draft_data_processing_folder: Path = data_folder.joinpath(\"10_draft_processing/\")\n",
    "aggregare_draft_data_folder: Path = data_folder.joinpath(\"20_aggregate_draft/\")\n",
    "prod_data_folder: Path = data_folder.joinpath(\"30_prod/\")\n",
    "features_data_folder: Path = data_folder.joinpath(\"40_features/\")"
   ]
  },
  {
   "cell_type": "code",
   "execution_count": 14,
   "metadata": {},
   "outputs": [],
   "source": [
    "import pandas as pd\n",
    "\n",
    "dataset = pd.read_csv(\n",
    "    filepath_or_buffer=prod_data_folder.joinpath(\"dataset.csv\"),\n",
    "    sep=\",\",\n",
    "    encoding=\"UTF-8\",\n",
    ")\n",
    "dataset[\"Date\"] = pd.to_datetime(dataset[\"Date\"], format=\"%Y-%m-%d\")\n",
    "\n",
    "inflation_rates = pd.read_csv(\n",
    "    filepath_or_buffer=prod_data_folder.joinpath(\"inflation_rates.csv\"),\n",
    "    sep=\",\",\n",
    "    encoding=\"UTF-8\",\n",
    ")\n",
    "inflation_rates[\"Date\"] = pd.to_datetime(inflation_rates[\"Date\"], format=\"%Y-%m-%d\")\n",
    "\n",
    "sentiment_analysis = pd.read_csv(\n",
    "    filepath_or_buffer=prod_data_folder.joinpath(\"sentiment_analysis.csv\"),\n",
    "    sep=\",\",\n",
    "    encoding=\"UTF-8\",\n",
    ")\n",
    "sentiment_analysis[\"Date\"] = pd.to_datetime(sentiment_analysis[\"Date\"], format=\"%Y-%m-%d\")"
   ]
  },
  {
   "cell_type": "code",
   "execution_count": 76,
   "metadata": {},
   "outputs": [],
   "source": [
    "from datetime import date\n",
    "\n",
    "starting_date: date = date(2015, 1, 1)\n",
    "ending_date: date = date(2016, 12, 31)\n",
    "\n",
    "filtered_dataset = dataset[(dataset[\"Date\"] >= pd.to_datetime(starting_date)) & (dataset[\"Date\"] <= pd.to_datetime(ending_date))].reset_index(drop=True)\n",
    "filtered_inflation_rates = inflation_rates[(inflation_rates[\"Date\"] >= pd.to_datetime(starting_date)) & (inflation_rates[\"Date\"] <= pd.to_datetime(ending_date))].reset_index(drop=True)\n",
    "filtered_sentiment_analysis = sentiment_analysis[(sentiment_analysis[\"Date\"] >= pd.to_datetime(starting_date)) & (sentiment_analysis[\"Date\"] <= pd.to_datetime(ending_date))].reset_index(drop=True)\n",
    "\n",
    "common_dates: set = set(filtered_dataset[\"Date\"])\n",
    "common_dates.intersection_update(set(filtered_inflation_rates[\"Date\"]))\n",
    "common_dates.intersection_update(set(filtered_sentiment_analysis[\"Date\"]))\n",
    "\n",
    "mask_dataset = filtered_dataset[\"Date\"].isin(common_dates)\n",
    "mask_inflation_rates = filtered_inflation_rates[\"Date\"].isin(common_dates)\n",
    "mask_sentiment_analysis = filtered_sentiment_analysis[\"Date\"].isin(common_dates)\n",
    "\n",
    "df = pd.concat((filtered_dataset[mask_dataset].reset_index(drop=True), filtered_inflation_rates[mask_inflation_rates].reset_index(drop=True)), axis=1)\n",
    "df = df.T.drop_duplicates().T"
   ]
  }
 ],
 "metadata": {
  "kernelspec": {
   "display_name": "ResearchThesis",
   "language": "python",
   "name": "python3"
  },
  "language_info": {
   "codemirror_mode": {
    "name": "ipython",
    "version": 3
   },
   "file_extension": ".py",
   "mimetype": "text/x-python",
   "name": "python",
   "nbconvert_exporter": "python",
   "pygments_lexer": "ipython3",
   "version": "3.11.9"
  }
 },
 "nbformat": 4,
 "nbformat_minor": 2
}
