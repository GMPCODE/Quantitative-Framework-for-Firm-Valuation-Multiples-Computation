{
 "cells": [
  {
   "cell_type": "code",
   "execution_count": 1,
   "metadata": {},
   "outputs": [],
   "source": [
    "import warnings\n",
    "\n",
    "warnings.filterwarnings(\"ignore\")"
   ]
  },
  {
   "cell_type": "code",
   "execution_count": 2,
   "metadata": {},
   "outputs": [],
   "source": [
    "from pathlib import Path\n",
    "\n",
    "raw_data_folder: Path = Path(\"00_raw/\")\n",
    "prod_data_folder: Path = Path(\"30_prod/\")"
   ]
  },
  {
   "cell_type": "code",
   "execution_count": 3,
   "metadata": {},
   "outputs": [],
   "source": [
    "import pandas as pd\n",
    "\n",
    "excel_dataset_name: str = \"12_Industry_Portfolios_Daily.xlsx\"\n",
    "equally_weighted_returns_sheet_name: str = \"Average Equal Weighted Returns\"\n",
    "\n",
    "df: pd.DataFrame = pd.read_excel(\n",
    "    io=raw_data_folder.joinpath(excel_dataset_name),\n",
    "    sheet_name=equally_weighted_returns_sheet_name,\n",
    ")\n",
    "df.rename(columns={\"Unnamed: 0\": \"Date\"}, inplace=True)\n",
    "df[\"Date\"] = pd.to_datetime(df[\"Date\"], format=\"%Y%m%d\")\n",
    "\n",
    "sectors: list[str] = [\n",
    "    industry.strip() for industry in df.columns.difference([\"Date\"]).to_list()\n",
    "]\n",
    "\n",
    "df.rename(\n",
    "    columns={k: f\"{k.strip()}_Returns_1\" for k in df.columns.difference([\"Date\"])},\n",
    "    inplace=True,\n",
    ")\n",
    "\n",
    "df.loc[:, df.columns != \"Date\"] = df.loc[:, df.columns != \"Date\"] / 100"
   ]
  },
  {
   "cell_type": "code",
   "execution_count": 4,
   "metadata": {},
   "outputs": [],
   "source": [
    "from transformers import BertTokenizer, BertForSequenceClassification\n",
    "import torch\n",
    "\n",
    "tokenizer = BertTokenizer.from_pretrained('ProsusAI/finbert')\n",
    "model = BertForSequenceClassification.from_pretrained('ProsusAI/finbert')\n",
    "\n",
    "def analyze_sentiment(text: str) -> dict:\n",
    "    inputs = tokenizer(text, return_tensors='pt', max_length=512, truncation=True, padding=True)\n",
    "    outputs = model(**inputs)\n",
    "    probabilities = torch.nn.functional.softmax(outputs.logits, dim=-1)\n",
    "    return {\"Positive\": probabilities[0, 0].item(),\n",
    "            \"Negative\": probabilities[0, 1].item(),\n",
    "            \"Neutral\": probabilities[0, 2].item()}"
   ]
  },
  {
   "cell_type": "code",
   "execution_count": 5,
   "metadata": {},
   "outputs": [],
   "source": [
    "from datetime import date\n",
    "\n",
    "starting_date: date = date(2010, 1, 1)\n",
    "ending_date: date = date(2020, 12, 31)\n",
    "\n",
    "backward_days: int = 10\n",
    "\n",
    "industries: dict = {\"Consumer Non-Durables\": \"NoDur\",\n",
    "                    \"Consumer Durables\": \"Durbl\",\n",
    "                    \"Manufacturing\": \"Manuf\",\n",
    "                    \"Energy\": \"Enrgy\",\n",
    "                    \"Chemicals\": \"Chems\",\n",
    "                    \"Business Equipment\": \"BusEq\",\n",
    "                    \"Telecommunications\": \"Telcm\",\n",
    "                    \"Electric, Gas, and Sanitary Services\": \"Utils\",\n",
    "                    \"Wholesale, Retail services\": \"Shops\",\n",
    "                    \"Healthcare, Medical Equipment and Drugs\": \"Hlth\",\n",
    "                    \"Banks, financial institutions\": \"Money\",\n",
    "                    \"Mines, Construction, Building Materials, and Transportation\": \"Other\"}"
   ]
  },
  {
   "cell_type": "code",
   "execution_count": 6,
   "metadata": {},
   "outputs": [],
   "source": [
    "import pandas as pd\n",
    "\n",
    "dataset: pd.DataFrame = pd.read_csv(\n",
    "    filepath_or_buffer=prod_data_folder.joinpath(\n",
    "        \"dataset.csv\"\n",
    "    ),\n",
    "    sep=\",\",\n",
    "    encoding=\"UTF-8\",\n",
    ")\n",
    "dataset[\"Date\"] = pd.to_datetime(dataset[\"Date\"], format=\"%Y-%m-%d\")\n",
    "dataset = dataset[(dataset[\"Date\"] >= pd.to_datetime(starting_date)) & (dataset[\"Date\"] <= pd.to_datetime(ending_date))]\n",
    "dataset.reset_index(inplace=True, drop=True)"
   ]
  },
  {
   "cell_type": "code",
   "execution_count": 7,
   "metadata": {},
   "outputs": [],
   "source": [
    "from gnews import GNews\n",
    "from datetime import date\n",
    "from statistics import mean\n",
    "from numpy.typing import NDArray\n",
    "\n",
    "import numpy as np\n",
    "\n",
    "industries_sentiment: NDArray = np.zeros((dataset.shape[0], len(sectors)))\n",
    "\n",
    "b: date = dataset.at[0, \"Date\"]\n",
    "a: date = b - pd.Timedelta(days=backward_days)\n",
    "\n",
    "google_news_client = GNews(language='en',\n",
    "                           country='US',\n",
    "                           start_date=(a.year, a.month, a.day),\n",
    "                           end_date=(b.year, b.month, b.day),\n",
    "                           max_results=35)\n",
    "\n",
    "for j in range(len(industries)):\n",
    "    list_news: list = [news.get(\"description\", \"\") for news in google_news_client.get_news(key=list(industries.keys())[j])]\n",
    "\n",
    "    positive_average: list = []\n",
    "\n",
    "    for n in list_news:\n",
    "        probs: dict = analyze_sentiment(n)\n",
    "        if probs.get(\"Neutral\", 1) < 0.5: positive_average.append(probs.get(\"Positive\", 0.0))\n",
    "\n",
    "    if not len(positive_average):\n",
    "        positive_average.append(0.0)\n",
    "\n",
    "    industries_sentiment[0, j] = mean(positive_average)"
   ]
  },
  {
   "cell_type": "code",
   "execution_count": null,
   "metadata": {},
   "outputs": [],
   "source": [
    "last_sentiment_vector = industries_sentiment[0, :]\n",
    "\n",
    "for i in range(1, dataset.shape[0]):\n",
    "    if i % backward_days != 0:\n",
    "        industries_sentiment[i, :] = last_sentiment_vector\n",
    "    else:\n",
    "        a = b\n",
    "        b = dataset.at[i - 1, \"Date\"]\n",
    "\n",
    "        print(a, b)\n",
    "\n",
    "        google_news_client = GNews(language='en',\n",
    "                           country='US',\n",
    "                           start_date=(a.year, a.month, a.day),\n",
    "                           end_date=(b.year, b.month, b.day),\n",
    "                           max_results=20)\n",
    "\n",
    "        for j in range(len(industries)):\n",
    "            list_news: list = [news.get(\"description\", \"\") for news in google_news_client.get_news(key=list(industries.keys())[j])]\n",
    "\n",
    "            positive_average: list = []\n",
    "\n",
    "            for n in list_news:\n",
    "                probs: dict = analyze_sentiment(n)\n",
    "                if probs.get(\"Neutral\", 1) < 0.5: positive_average.append(probs.get(\"Positive\", 0.0))\n",
    "\n",
    "            if not len(positive_average):\n",
    "                positive_average.append(0.0)\n",
    "\n",
    "            industries_sentiment[i, j] = mean(positive_average)\n",
    "\n",
    "        last_sentiment_vector = industries_sentiment[i, :]"
   ]
  },
  {
   "cell_type": "code",
   "execution_count": 19,
   "metadata": {},
   "outputs": [],
   "source": [
    "industries_sentiment_columns: list[str] = [f\"{x}_Positive_Sentiment\" for x in list(industries.values())]\n",
    "\n",
    "dataframe_sentiment_analysis = pd.DataFrame(industries_sentiment)\n",
    "dataframe_sentiment_analysis.rename(columns={k : v for k, v in zip(range(len(industries)), industries_sentiment_columns)}, inplace=True)\n",
    "\n",
    "dataframe_sentiment_analysis[\"Date\"] = dataset[\"Date\"]\n",
    "col_ =  dataframe_sentiment_analysis.pop(\"Date\")\n",
    "dataframe_sentiment_analysis.insert(0, col_.name, col_)\n",
    "\n",
    "dataframe_sentiment_analysis.to_csv(\n",
    "    path_or_buf=prod_data_folder.joinpath(\"sentiment.csv\"),\n",
    "    sep=\",\",\n",
    "    encoding=\"UTF-8\",\n",
    "    index=False,\n",
    ")"
   ]
  }
 ],
 "metadata": {
  "kernelspec": {
   "display_name": "Thesis",
   "language": "python",
   "name": "python3"
  },
  "language_info": {
   "codemirror_mode": {
    "name": "ipython",
    "version": 3
   },
   "file_extension": ".py",
   "mimetype": "text/x-python",
   "name": "python",
   "nbconvert_exporter": "python",
   "pygments_lexer": "ipython3",
   "version": "3.11.9"
  }
 },
 "nbformat": 4,
 "nbformat_minor": 2
}
